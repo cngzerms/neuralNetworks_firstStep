{
 "cells": [
  {
   "cell_type": "code",
   "execution_count": 1,
   "id": "ad8df991",
   "metadata": {},
   "outputs": [
    {
     "name": "stdout",
     "output_type": "stream",
     "text": [
      "Epoch 1 Loss: 0.6288 -\n",
      "Epoch 2 Loss: 0.5946 -\n",
      "Epoch 3 Loss: 0.5634 -\n",
      "Epoch 4 Loss: 0.5330 -\n",
      "Epoch 5 Loss: 0.5036 -\n",
      "Epoch 6 Loss: 0.4752 -\n",
      "Epoch 7 Loss: 0.4484 -\n",
      "Epoch 8 Loss: 0.4232 -\n",
      "Epoch 9 Loss: 0.4000 -\n",
      "Epoch 10 Loss: 0.3787 -\n"
     ]
    }
   ],
   "source": [
    "import torch\n",
    "import math\n",
    "\n",
    "torch.manual_seed(1)\n",
    "# input data\n",
    "x = torch.tensor([[1,2,3],[4,5,6]], dtype=torch.float)\n",
    "\n",
    "# output data\n",
    "y = torch.tensor([[0],[1]], dtype=torch.float)\n",
    "\n",
    "# define the activation functions\n",
    "def tanh(x):\n",
    "    return (torch.exp(x) - torch.exp(-x)) / (torch.exp(x) + torch.exp(-x))\n",
    "\n",
    "def sigmoid(x):\n",
    "    return 1 / (1 + torch.exp(-x))\n",
    "\n",
    "# define the model\n",
    "class Net(torch.nn.Module):\n",
    "    def __init__(self):\n",
    "        super(Net, self).__init__()\n",
    "        self.hidden_layer = torch.nn.Linear(3, 50)\n",
    "        self.output_layer = torch.nn.Linear(50, 1)\n",
    "        \n",
    "    def forward(self, x):\n",
    "        hidden_output = tanh(self.hidden_layer(x))\n",
    "        output = sigmoid(self.output_layer(hidden_output))\n",
    "        return output\n",
    "\n",
    "# create the model instance\n",
    "net = Net()\n",
    "\n",
    "# define the loss function and optimizer\n",
    "criterion = torch.nn.BCELoss()\n",
    "optimizer = torch.optim.SGD(net.parameters(), lr=0.1)\n",
    "\n",
    "# train the model\n",
    "for epoch in range(10):\n",
    "    optimizer.zero_grad()\n",
    "    output = net(x)\n",
    "    loss = criterion(output, y)\n",
    "    loss.backward()\n",
    "    optimizer.step()\n",
    "    print('Epoch %d Loss: %.4f' % (epoch+1, loss.item()), \"-\")\n"
   ]
  },
  {
   "cell_type": "code",
   "execution_count": 2,
   "id": "789a11c7",
   "metadata": {},
   "outputs": [
    {
     "name": "stdout",
     "output_type": "stream",
     "text": [
      "Epoch 1 Loss: 0.6753 -\n",
      "Epoch 2 Loss: 0.6431 -\n",
      "Epoch 3 Loss: 0.6130 -\n",
      "Epoch 4 Loss: 0.5845 -\n",
      "Epoch 5 Loss: 0.5573 -\n",
      "Epoch 6 Loss: 0.5311 -\n",
      "Epoch 7 Loss: 0.5059 -\n",
      "Epoch 8 Loss: 0.4815 -\n",
      "Epoch 9 Loss: 0.4580 -\n",
      "Epoch 10 Loss: 0.4355 -\n"
     ]
    }
   ],
   "source": [
    "import torch\n",
    "import math\n",
    "\n",
    "torch.manual_seed(170401019)\n",
    "# input data\n",
    "x = torch.tensor([[1,2,3],[4,5,6]], dtype=torch.float)\n",
    "\n",
    "# output data\n",
    "y = torch.tensor([[0],[1]], dtype=torch.float)\n",
    "\n",
    "# define the activation functions\n",
    "def tanh(x):\n",
    "    return (torch.exp(x) - torch.exp(-x)) / (torch.exp(x) + torch.exp(-x))\n",
    "\n",
    "def sigmoid(x):\n",
    "    return 1 / (1 + torch.exp(-x))\n",
    "\n",
    "# define the model\n",
    "class Net(torch.nn.Module):\n",
    "    def __init__(self):\n",
    "        super(Net, self).__init__()\n",
    "        self.hidden_layer = torch.nn.Linear(3, 50)\n",
    "        self.output_layer = torch.nn.Linear(50, 1)\n",
    "        \n",
    "    def forward(self, x):\n",
    "        hidden_output = tanh(self.hidden_layer(x))\n",
    "        output = sigmoid(self.output_layer(hidden_output))\n",
    "        return output\n",
    "\n",
    "# create the model instance\n",
    "net = Net()\n",
    "\n",
    "# define the loss function and optimizer\n",
    "criterion = torch.nn.BCELoss()\n",
    "optimizer = torch.optim.SGD(net.parameters(), lr=0.1)\n",
    "\n",
    "# train the model\n",
    "for epoch in range(10):\n",
    "    optimizer.zero_grad()\n",
    "    output = net(x)\n",
    "    loss = criterion(output, y)\n",
    "    loss.backward()\n",
    "    optimizer.step()\n",
    "    print('Epoch %d Loss: %.4f' % (epoch+1, loss.item()), \"-\")\n"
   ]
  },
  {
   "cell_type": "code",
   "execution_count": null,
   "id": "8cee7a54",
   "metadata": {},
   "outputs": [],
   "source": []
  }
 ],
 "metadata": {
  "kernelspec": {
   "display_name": "Python 3 (ipykernel)",
   "language": "python",
   "name": "python3"
  },
  "language_info": {
   "codemirror_mode": {
    "name": "ipython",
    "version": 3
   },
   "file_extension": ".py",
   "mimetype": "text/x-python",
   "name": "python",
   "nbconvert_exporter": "python",
   "pygments_lexer": "ipython3",
   "version": "3.10.10"
  }
 },
 "nbformat": 4,
 "nbformat_minor": 5
}
